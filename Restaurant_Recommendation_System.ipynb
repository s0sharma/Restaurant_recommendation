{
  "nbformat": 4,
  "nbformat_minor": 0,
  "metadata": {
    "colab": {
      "provenance": []
    },
    "kernelspec": {
      "name": "python3",
      "display_name": "Python 3"
    },
    "language_info": {
      "name": "python"
    }
  },
  "cells": [
    {
      "cell_type": "markdown",
      "source": [
        "#Restaurant recommendation System\n",
        "\n"
      ],
      "metadata": {
        "id": "rTEtjfy0P3Vs"
      }
    },
    {
      "cell_type": "code",
      "source": [
        "import numpy as np\n",
        "import random\n",
        "import matplotlib.pyplot as plt"
      ],
      "metadata": {
        "id": "-lS8RhjBgTNs"
      },
      "execution_count": null,
      "outputs": []
    },
    {
      "cell_type": "markdown",
      "source": [
        "#DataSet"
      ],
      "metadata": {
        "id": "gAY_aGf2gVw-"
      }
    },
    {
      "cell_type": "code",
      "source": [
        "# Ranges for each user's feature\n",
        "price_range = [1, 2, 3]\n",
        "ambience_range = [1, 2, 3]\n",
        "online_order_range = [1, 2]\n",
        "vegetarian_range = [1, 2]\n",
        "cuisine_range = [1, 2, 3, 4, 5]\n",
        "\n",
        "# (Price, Ambience, Online order, Veg/Non-Veg, Cuisine)\n",
        "# Collected Restaurant data\n",
        "restaurants_data = {\n",
        "    \"Truffles\": [3, 3, 1, 1, 5],\n",
        "    \"Chowmen\": [2, 2, 1, 1, 3],\n",
        "    \"Dominos\": [2, 3, 1, 1, 4],\n",
        "    \"Mozo Pizza\": [3, 2, 1, 1, 4],\n",
        "    \"Hyderabadi Spice\": [2, 1, 1, 1, 2],\n",
        "    \"Wendy's\": [2, 2, 1, 1, 5],\n",
        "    \"Juicy\": [1, 1, 1, 1, 1],\n",
        "    \"Pizza Hut\": [2, 2, 1, 1, 5],\n",
        "    \"Biryani Life\": [3, 3, 1, 1, 1],\n",
        "    \"Fresh Menu\": [2, 2, 1, 1, 4],\n",
        "    \"7 Days\": [1, 1, 1, 1, 1]\n",
        "}\n"
      ],
      "metadata": {
        "id": "pXweAhXzgpps"
      },
      "execution_count": null,
      "outputs": []
    },
    {
      "cell_type": "code",
      "source": [
        "def generate_user_data(num_users):\n",
        "    # Initialize an empty dictionary to store user data\n",
        "    user_data = {}\n",
        "\n",
        "    # Iterate over the range of user IDs\n",
        "    for user_id in range(1, num_users + 1):\n",
        "        # Generate random user preferences for each feature\n",
        "        user_preferences = [\n",
        "            random.choice(price_range),\n",
        "            random.choice(ambience_range),\n",
        "            random.choice(online_order_range),\n",
        "            random.choice(vegetarian_range),\n",
        "            random.choice(cuisine_range)\n",
        "        ]\n",
        "\n",
        "        # Store user preferences in the dictionary with the user ID as the key\n",
        "        user_data[f\"U{user_id}\"] = user_preferences\n",
        "\n",
        "    # Return the generated user data\n",
        "    return user_data\n",
        "\n",
        "\n",
        "def generate_user_rewards(user_data, restaurants_data):\n",
        "    # Initialize an empty dictionary to store user rewards\n",
        "    user_rewards = {}\n",
        "\n",
        "    # Iterate over user data, consisting of user ID and user preferences\n",
        "    for user_id, user_prefs in user_data.items():\n",
        "        # Initialize an empty dictionary to store rewards for each restaurant\n",
        "        restaurant_rewards = {}\n",
        "\n",
        "        # Initialize minimum distance as positive infinity\n",
        "        min_distance = float('inf')\n",
        "\n",
        "        # Iterate over restaurant data\n",
        "        for restaurant, restaurant_prefs in restaurants_data.items():\n",
        "            # Calculate the Euclidean distance between user preferences and restaurant preferences\n",
        "            distance = sum((a - b) ** 2 for a, b in zip(user_prefs, restaurant_prefs))\n",
        "            # U1 : [1, 2, 2, 3, 4]\n",
        "            # \"Truffles\": [3, 3, 1, 1, 5],\n",
        "\n",
        "\n",
        "            # Update the minimum distance if the current distance is smaller\n",
        "            if distance < min_distance:\n",
        "                min_distance = distance\n",
        "\n",
        "        # Iterate over restaurant data again to assign rewards based on the closest restaurant\n",
        "        for restaurant, restaurant_prefs in restaurants_data.items():\n",
        "            # Calculate the Euclidean distance again\n",
        "            distance = sum((a - b) ** 2 for a, b in zip(user_prefs, restaurant_prefs))\n",
        "\n",
        "            # Assign a reward of 1 if the distance is equal to the minimum distance, else 0\n",
        "            reward = 1 if distance == min_distance else 0\n",
        "\n",
        "            # Store the reward for the current restaurant in the dictionary\n",
        "            restaurant_rewards[restaurant] = reward\n",
        "\n",
        "        # Store the restaurant rewards for the current user in the user_rewards dictionary\n",
        "        user_rewards[user_id] = restaurant_rewards\n",
        "\n",
        "    # Return the generated user rewards\n",
        "    return user_rewards\n"
      ],
      "metadata": {
        "id": "45VRqEQWgwQU"
      },
      "execution_count": null,
      "outputs": []
    },
    {
      "cell_type": "markdown",
      "source": [
        "#Testing Code\n"
      ],
      "metadata": {
        "id": "TOtRANT5hx3V"
      }
    },
    {
      "cell_type": "code",
      "source": [
        "# Function for testing\n",
        "def test_model(A, b, num_restaurants, num_features):\n",
        "    testing_accuracy_data = []\n",
        "    total_testing_correct = 0\n",
        "    for t in range(T):\n",
        "        # Generate preferences for a testing user\n",
        "        testing_user_data_t = generate_user_data(1)\n",
        "        testing_user_rewards_t = generate_user_rewards(testing_user_data_t, restaurants_data)\n",
        "\n",
        "        max_ucb = -float('inf')\n",
        "        chosen_restaurant = 0\n",
        "        testing_t_person = np.array(list(testing_user_data_t.values())).reshape(num_features, 1)\n",
        "\n",
        "        for i in range(num_restaurants):\n",
        "            testing_user_feature = testing_t_person\n",
        "            testing_A_inv = np.linalg.inv(A[i])\n",
        "            testing_theta = np.dot(testing_A_inv, b[i])\n",
        "            testing_ucb = np.dot(testing_theta.T, testing_user_feature)\n",
        "\n",
        "            if testing_ucb > max_ucb:\n",
        "                max_ucb = testing_ucb\n",
        "                chosen_restaurant = i\n",
        "\n",
        "\n",
        "        # Check if the chosen restaurant has a reward of 1\n",
        "        testing_reward_for_chosen_restaurant = testing_user_rewards_t[f\"U1\"][list(restaurants_data.keys())[chosen_restaurant]]\n",
        "\n",
        "        # Check accuracy and store the result\n",
        "        if testing_reward_for_chosen_restaurant == 1:\n",
        "            total_testing_correct += 1\n",
        "\n",
        "        testing_accuracy = total_testing_correct / (t + 1)\n",
        "        testing_accuracy_data.append(testing_accuracy)\n",
        "\n",
        "     # Calculate the final accuracy\n",
        "    final_testing_accuracy = total_testing_correct / T\n",
        "    return final_testing_accuracy\n",
        "    # return testing_accuracy_data\n",
        "\n"
      ],
      "metadata": {
        "id": "K81OWP68hz6k"
      },
      "execution_count": null,
      "outputs": []
    },
    {
      "cell_type": "markdown",
      "source": [
        "#Training Code\n"
      ],
      "metadata": {
        "id": "PMzrdmozg6VW"
      }
    },
    {
      "cell_type": "code",
      "source": [
        "# Number of users, features, and restaurants\n",
        "num_users = 100\n",
        "num_features = 5\n",
        "num_restaurants = len(restaurants_data) - 1\n",
        "T = 2000\n",
        "alpha = 0.7"
      ],
      "metadata": {
        "id": "IqPydsN5g_IP"
      },
      "execution_count": null,
      "outputs": []
    },
    {
      "cell_type": "code",
      "source": [
        "# Initialize LinUCB parameters\n",
        "A = [np.identity(num_features) for _ in range(num_restaurants)]\n",
        "b = [np.zeros((num_features, 1)) for _ in range(num_restaurants)]\n",
        "rewards = []\n",
        "best_restaurants = []\n",
        "# total = 0\n",
        "recommended_restaurants = {}"
      ],
      "metadata": {
        "id": "29FhtiAthD70"
      },
      "execution_count": null,
      "outputs": []
    },
    {
      "cell_type": "code",
      "source": [
        "# Initialize variables to track accuracy\n",
        "training_accuracies = []\n",
        "total_correct = 0"
      ],
      "metadata": {
        "id": "utAUrXCxhKba"
      },
      "execution_count": null,
      "outputs": []
    },
    {
      "cell_type": "code",
      "source": [
        "# Initialize variables to track testing accuracy\n",
        "testing_frequency = 50\n",
        "final_testing_accuracies = []  # Store final testing accuracies here"
      ],
      "metadata": {
        "id": "dMBvE0yahN1b"
      },
      "execution_count": null,
      "outputs": []
    },
    {
      "cell_type": "code",
      "execution_count": null,
      "metadata": {
        "colab": {
          "base_uri": "https://localhost:8080/"
        },
        "id": "4sZKxq8cgJCC",
        "outputId": "87998b19-1922-4d8e-d320-cc36c62d812f"
      },
      "outputs": [
        {
          "output_type": "stream",
          "name": "stdout",
          "text": [
            "Final testing accuracy at time step 0: 8.75 %\n",
            "Final testing accuracy at time step 50: 47.199999999999996 %\n",
            "Final testing accuracy at time step 100: 56.699999999999996 %\n",
            "Final testing accuracy at time step 150: 67.25 %\n",
            "Final testing accuracy at time step 200: 65.95 %\n",
            "Final testing accuracy at time step 250: 70.35 %\n",
            "Final testing accuracy at time step 300: 67.25 %\n",
            "Final testing accuracy at time step 350: 70.45 %\n",
            "Final testing accuracy at time step 400: 73.55000000000001 %\n",
            "Final testing accuracy at time step 450: 70.8 %\n",
            "Final testing accuracy at time step 500: 74.7 %\n",
            "Final testing accuracy at time step 550: 73.55000000000001 %\n",
            "Final testing accuracy at time step 600: 73.8 %\n",
            "Final testing accuracy at time step 650: 75.6 %\n",
            "Final testing accuracy at time step 700: 72.6 %\n",
            "Final testing accuracy at time step 750: 73.15 %\n",
            "Final testing accuracy at time step 800: 75.6 %\n",
            "Final testing accuracy at time step 850: 73.9 %\n",
            "Final testing accuracy at time step 900: 72.7 %\n",
            "Final testing accuracy at time step 950: 75.6 %\n",
            "Final testing accuracy at time step 1000: 73.65 %\n",
            "Final testing accuracy at time step 1050: 76.1 %\n",
            "Final testing accuracy at time step 1100: 76.35 %\n",
            "Final testing accuracy at time step 1150: 73.85000000000001 %\n",
            "Final testing accuracy at time step 1200: 74.35000000000001 %\n",
            "Final testing accuracy at time step 1250: 76.25 %\n",
            "Final testing accuracy at time step 1300: 77.3 %\n",
            "Final testing accuracy at time step 1350: 76.6 %\n",
            "Final testing accuracy at time step 1400: 78.14999999999999 %\n",
            "Final testing accuracy at time step 1450: 74.95 %\n",
            "Final testing accuracy at time step 1500: 74.85000000000001 %\n",
            "Final testing accuracy at time step 1550: 75.25 %\n",
            "Final testing accuracy at time step 1600: 76.1 %\n",
            "Final testing accuracy at time step 1650: 74.95 %\n",
            "Final testing accuracy at time step 1700: 74.9 %\n",
            "Final testing accuracy at time step 1750: 77.7 %\n",
            "Final testing accuracy at time step 1800: 75.4 %\n",
            "Final testing accuracy at time step 1850: 76.55 %\n",
            "Final testing accuracy at time step 1900: 73.9 %\n",
            "Final testing accuracy at time step 1950: 78.10000000000001 %\n"
          ]
        }
      ],
      "source": [
        "for t in range(T):\n",
        "\n",
        "    # Perform testing every 50 time steps\n",
        "    if t % testing_frequency == 0:\n",
        "        # Call the test_model function to calculate final testing accuracy\n",
        "        final_accuracy = test_model(A, b, num_restaurants, num_features)\n",
        "        final_testing_accuracies.append(final_accuracy)\n",
        "        print(f\"Final testing accuracy at time step {t}: {final_accuracy*100} %\")\n",
        "\n",
        "\n",
        "    # Generate user data for the current time step\n",
        "    user_data_t = generate_user_data(1)\n",
        "\n",
        "    # Generate user rewards based on the generated user data\n",
        "    user_rewards_t = generate_user_rewards(user_data_t, restaurants_data)\n",
        "    # Initialize variables to find the maximum UCB and the chosen restaurant\n",
        "    max_ucb = -float('inf')\n",
        "    chosen_restaurant = 0\n",
        "\n",
        "    # Extract the user features for the current time step\n",
        "    t_person = np.array(list(user_data_t.values())).reshape(num_features, 1)\n",
        "\n",
        "    # Iterate over the available restaurants\n",
        "    for i in range(num_restaurants):\n",
        "        restaurant_features = np.array(restaurants_data[list(restaurants_data.keys())[i]])\n",
        "\n",
        "        # concatenate the features : Giving less accuracy\n",
        "        # restaurant_features = restaurant_features.reshape(-1, 1)\n",
        "        # user_feature = np.concatenate((restaurant_features, t_person), axis=1)\n",
        "\n",
        "        user_feature = t_person  # The user feature is set to the user's preferences\n",
        "\n",
        "        # print(\"restaurant_features: \", restaurant_features.shape)\n",
        "        # print(\"t_person: \", t_person.shape)\n",
        "        # user_feature = np.dot(restaurant_features.reshape(1, -1), t_person).reshape(-1, 1)\n",
        "\n",
        "        # Calculate the UCB for the current restaurant\n",
        "        A_inv = np.linalg.inv(A[i])\n",
        "        theta = np.dot(A_inv, b[i])\n",
        "        ucb = np.dot(theta.T, user_feature) + alpha * np.sqrt(np.dot(user_feature.T, np.dot(A_inv, user_feature)))\n",
        "\n",
        "        # exploit\n",
        "        # explore\n",
        "\n",
        "        # Check if the current UCB is greater than the maximum UCB\n",
        "        if np.all(ucb > max_ucb):\n",
        "            max_ucb = ucb\n",
        "            chosen_restaurant = i\n",
        "\n",
        "    # Check if the chosen restaurant has a reward of 1\n",
        "    user_id = min(t % num_users + 1, len(user_rewards_t))\n",
        "    reward_for_chosen_restaurant = user_rewards_t[f\"U1\"][list(restaurants_data.keys())[chosen_restaurant]]\n",
        "    # print(reward_for_chosen_restaurant)\n",
        "\n",
        "    # Check accuracy and store the result\n",
        "    if reward_for_chosen_restaurant == 1:\n",
        "        total_correct += 1\n",
        "\n",
        "    training_accuracy_data = total_correct / (t + 1)  # Traing Accuracy up to the current time step\n",
        "    # print( f\"{training_accuracy_data*100:.2f}\",\"%\" )\n",
        "    training_accuracies.append(training_accuracy_data*100)\n",
        "\n",
        "    # Store the chosen restaurant for this time step\n",
        "    best_restaurants.append(chosen_restaurant)\n",
        "\n",
        "    # Extract the reward for the chosen restaurant from the generated user rewards\n",
        "    reward = user_rewards_t[\"U1\"][list(restaurants_data.keys())[chosen_restaurant]]\n",
        "    rewards.append(reward)\n",
        "\n",
        "    # Update the parameters of the chosen restaurant based on the user's preferences\n",
        "    A[chosen_restaurant] += np.dot(t_person, t_person.T)\n",
        "    b[chosen_restaurant] += reward * t_person\n",
        "\n",
        "\n",
        "\n",
        "    # Store the chosen restaurant for the current user\n",
        "    user_id = t % num_users\n",
        "    if user_id not in recommended_restaurants:\n",
        "        recommended_restaurants[user_id] = []\n",
        "    recommended_restaurants[user_id].append(chosen_restaurant)\n",
        "\n",
        "\n"
      ]
    },
    {
      "cell_type": "code",
      "source": [
        "print(\"Testing Accuracy:\", max(final_testing_accuracies)*100, \"%\")\n"
      ],
      "metadata": {
        "colab": {
          "base_uri": "https://localhost:8080/"
        },
        "id": "X_qu4KCehTLJ",
        "outputId": "11c1a3e3-d4b3-4cb5-c4aa-3904a3c233c3"
      },
      "execution_count": null,
      "outputs": [
        {
          "output_type": "stream",
          "name": "stdout",
          "text": [
            "Testing Accuracy: 78.14999999999999 %\n"
          ]
        }
      ]
    },
    {
      "cell_type": "markdown",
      "source": [
        "#Testing Plot"
      ],
      "metadata": {
        "id": "C9V0C7boh8TV"
      }
    },
    {
      "cell_type": "code",
      "source": [
        "# Plot the final testing accuracies\n",
        "plt.plot(range(0, T, testing_frequency), final_testing_accuracies, marker='o', linestyle='-')\n",
        "plt.xlabel(\"Testing  Episodes\")\n",
        "plt.ylabel(\"Accuracy\")\n",
        "plt.title(\"Accuracy vs Testing  Episodes\")\n",
        "plt.show()"
      ],
      "metadata": {
        "colab": {
          "base_uri": "https://localhost:8080/",
          "height": 472
        },
        "id": "qvg7Xatqh-Gc",
        "outputId": "075df346-93b9-4bc1-8bdf-4c58f11ad15f"
      },
      "execution_count": null,
      "outputs": [
        {
          "output_type": "display_data",
          "data": {
            "text/plain": [
              "<Figure size 640x480 with 1 Axes>"
            ],
            "image/png": "[encoded data removed]"
          },
          "metadata": {}
        }
      ]
    },
    {
      "cell_type": "markdown",
      "source": [
        "#Training Results"
      ],
      "metadata": {
        "id": "L04GmZI3Y9qa"
      }
    },
    {
      "cell_type": "code",
      "source": [
        "# for i in (training_accuracies):\n",
        "#   print(\"Traning accuracy\", i, \"%\")"
      ],
      "metadata": {
        "id": "zpLExgs-Xvri"
      },
      "execution_count": null,
      "outputs": []
    },
    {
      "cell_type": "markdown",
      "source": [
        "#Training Plot"
      ],
      "metadata": {
        "id": "Fw6KJsyRZC7P"
      }
    },
    {
      "cell_type": "code",
      "source": [
        "# # Plot the final testing accuracies\n",
        "# plt.plot(range(0, T, 1), training_accuracies, linestyle='-')\n",
        "# plt.xlabel(\"Number of times\")\n",
        "# plt.ylabel(\"Training Accuracy\")\n",
        "# plt.title(\"Training Accuracy vs Number of times\")\n",
        "# plt.show()"
      ],
      "metadata": {
        "id": "B_jvdAOVZGtT"
      },
      "execution_count": null,
      "outputs": []
    }
  ]
}